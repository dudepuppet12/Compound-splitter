{
  "nbformat": 4,
  "nbformat_minor": 0,
  "metadata": {
    "colab": {
      "provenance": []
    },
    "kernelspec": {
      "name": "python3",
      "display_name": "Python 3"
    },
    "language_info": {
      "name": "python"
    }
  },
  "cells": [
    {
      "cell_type": "code",
      "execution_count": null,
      "metadata": {
        "id": "fizGA2cxBvtx"
      },
      "outputs": [],
      "source": [
        "import spacy\n",
        "import pandas as pd\n",
        "import numpy as np\n",
        "df = pd.read_csv('/content/drive/My Drive/LADEC.csv',)"
      ]
    },
    {
      "cell_type": "code",
      "source": [
        "df.nunique()\n",
        "#From this, there are 8376 unique compounds in the database"
      ],
      "metadata": {
        "id": "3Q_T1YxGBwNe"
      },
      "execution_count": null,
      "outputs": []
    },
    {
      "cell_type": "code",
      "source": [
        "L1 = df['c1'].tolist()\n",
        "L2 = df['c2'].tolist()\n",
        "L3 = L1 + L2\n",
        "unique_components = len(set(L3))\n",
        "print(unique_components)\n",
        "#There are 3774 unique components, both first and last."
      ],
      "metadata": {
        "id": "gKFq8x3PBwPl"
      },
      "execution_count": null,
      "outputs": []
    },
    {
      "cell_type": "code",
      "source": [
        "from collections import Counter\n",
        "\n",
        "most_productive_components = [item for items, c in Counter(L3).most_common()\n",
        "                                      for item in [items] * c]\n",
        "\n",
        "res = []\n",
        "[res.append(x) for x in most_productive_components if x not in res]\n",
        "str(res)\n",
        "#The output is a list of components from most productive to least productive"
      ],
      "metadata": {
        "id": "m4iACo5lBwS1"
      },
      "execution_count": null,
      "outputs": []
    },
    {
      "cell_type": "code",
      "source": [
        "compounds = df['stim'].tolist()\n",
        "denominator = len(compounds)\n",
        "blank = []\n",
        "\n",
        "for word in compounds:\n",
        "  length = len(word)\n",
        "  blank.append(length)\n",
        "numerator = sum(blank)\n",
        "avg_length = float(numerator) / float(denominator)\n",
        "avg_length\n",
        "#The average length of a compound word in the dataframe is about 9 letters"
      ],
      "metadata": {
        "id": "zYxgP7UbBwVd"
      },
      "execution_count": null,
      "outputs": []
    },
    {
      "cell_type": "code",
      "source": [],
      "metadata": {
        "id": "7LGb9ormBwYd"
      },
      "execution_count": null,
      "outputs": []
    },
    {
      "cell_type": "code",
      "source": [],
      "metadata": {
        "id": "VuWTLuegBwbV"
      },
      "execution_count": null,
      "outputs": []
    },
    {
      "cell_type": "code",
      "source": [],
      "metadata": {
        "id": "VkesAfVgBweF"
      },
      "execution_count": null,
      "outputs": []
    },
    {
      "cell_type": "code",
      "source": [],
      "metadata": {
        "id": "OUcivKyyBwg2"
      },
      "execution_count": null,
      "outputs": []
    },
    {
      "cell_type": "code",
      "source": [],
      "metadata": {
        "id": "XGmD3eHcBwjm"
      },
      "execution_count": null,
      "outputs": []
    }
  ]
}